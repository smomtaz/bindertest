{
 "cells": [
  {
   "cell_type": "markdown",
   "id": "d56f79cc",
   "metadata": {},
   "source": [
    "## Test Binder"
   ]
  },
  {
   "cell_type": "code",
   "execution_count": 2,
   "id": "112dcbda",
   "metadata": {},
   "outputs": [
    {
     "data": {
      "text/html": [
       "<div>\n",
       "<style scoped>\n",
       "    .dataframe tbody tr th:only-of-type {\n",
       "        vertical-align: middle;\n",
       "    }\n",
       "\n",
       "    .dataframe tbody tr th {\n",
       "        vertical-align: top;\n",
       "    }\n",
       "\n",
       "    .dataframe thead th {\n",
       "        text-align: right;\n",
       "    }\n",
       "</style>\n",
       "<table border=\"1\" class=\"dataframe\">\n",
       "  <thead>\n",
       "    <tr style=\"text-align: right;\">\n",
       "      <th></th>\n",
       "      <th>path_name</th>\n",
       "      <th>distance_mi</th>\n",
       "      <th>geometry</th>\n",
       "    </tr>\n",
       "  </thead>\n",
       "  <tbody>\n",
       "    <tr>\n",
       "      <th>0</th>\n",
       "      <td>SF -&gt; Berkley</td>\n",
       "      <td>13.58</td>\n",
       "      <td>LINESTRING (-122.41928 37.77492, -122.4192 37....</td>\n",
       "    </tr>\n",
       "    <tr>\n",
       "      <th>1</th>\n",
       "      <td>SF -&gt; San Rafael</td>\n",
       "      <td>18.66</td>\n",
       "      <td>LINESTRING (-122.41928 37.77492, -122.41872 37...</td>\n",
       "    </tr>\n",
       "    <tr>\n",
       "      <th>2</th>\n",
       "      <td>SF -&gt; San Mateo</td>\n",
       "      <td>19.30</td>\n",
       "      <td>LINESTRING (-122.41928 37.77492, -122.41872 37...</td>\n",
       "    </tr>\n",
       "    <tr>\n",
       "      <th>3</th>\n",
       "      <td>SF -&gt; San Leandro</td>\n",
       "      <td>21.21</td>\n",
       "      <td>LINESTRING (-122.41928 37.77492, -122.41872 37...</td>\n",
       "    </tr>\n",
       "    <tr>\n",
       "      <th>4</th>\n",
       "      <td>SF -&gt; Pacifica</td>\n",
       "      <td>15.37</td>\n",
       "      <td>LINESTRING (-122.41928 37.77492, -122.41872 37...</td>\n",
       "    </tr>\n",
       "  </tbody>\n",
       "</table>\n",
       "</div>"
      ],
      "text/plain": [
       "           path_name  distance_mi  \\\n",
       "0      SF -> Berkley        13.58   \n",
       "1   SF -> San Rafael        18.66   \n",
       "2    SF -> San Mateo        19.30   \n",
       "3  SF -> San Leandro        21.21   \n",
       "4     SF -> Pacifica        15.37   \n",
       "\n",
       "                                            geometry  \n",
       "0  LINESTRING (-122.41928 37.77492, -122.4192 37....  \n",
       "1  LINESTRING (-122.41928 37.77492, -122.41872 37...  \n",
       "2  LINESTRING (-122.41928 37.77492, -122.41872 37...  \n",
       "3  LINESTRING (-122.41928 37.77492, -122.41872 37...  \n",
       "4  LINESTRING (-122.41928 37.77492, -122.41872 37...  "
      ]
     },
     "execution_count": 2,
     "metadata": {},
     "output_type": "execute_result"
    }
   ],
   "source": [
    "import geopandas as gpd\n",
    "import requests\n",
    "import io\n",
    "\n",
    "# Google Drive direct download URL\n",
    "url = \"https://drive.google.com/uc?export=download&id=1qpx8iktc2wfwCE_2sMv5ODaB3PV4z7HH\"\n",
    "\n",
    "# Fetch the file\n",
    "response = requests.get(url)\n",
    "response.raise_for_status()  # ensure we catch a failed download\n",
    "\n",
    "# Load into pandas from memory\n",
    "df = gpd.read_parquet(io.BytesIO(response.content))\n",
    "\n",
    "# Show dataframe\n",
    "df.head()"
   ]
  },
  {
   "cell_type": "code",
   "execution_count": null,
   "id": "920f2143",
   "metadata": {},
   "outputs": [],
   "source": []
  }
 ],
 "metadata": {
  "kernelspec": {
   "display_name": "smaurora",
   "language": "python",
   "name": "python3"
  },
  "language_info": {
   "codemirror_mode": {
    "name": "ipython",
    "version": 3
   },
   "file_extension": ".py",
   "mimetype": "text/x-python",
   "name": "python",
   "nbconvert_exporter": "python",
   "pygments_lexer": "ipython3",
   "version": "3.10.18"
  }
 },
 "nbformat": 4,
 "nbformat_minor": 5
}
