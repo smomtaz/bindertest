{
 "cells": [
  {
   "cell_type": "markdown",
   "id": "d56f79cc",
   "metadata": {},
   "source": [
    "## Routes"
   ]
  },
  {
   "cell_type": "code",
   "execution_count": 3,
   "id": "112dcbda",
   "metadata": {},
   "outputs": [],
   "source": [
    "import warnings\n",
    "warnings.filterwarnings(\"ignore\")\n",
    "\n",
    "import pandas as pd\n",
    "import geopandas as gpd\n",
    "from shapely import wkt\n",
    "from datetime import datetime, timedelta\n",
    "import datetime as dt\n",
    "import os\n",
    "import matplotlib.pyplot as plt\n",
    "import numpy as np\n",
    "import seaborn as sns\n",
    "from scipy.spatial import cKDTree\n",
    "from sklearn.model_selection import train_test_split\n",
    "from sklearn.ensemble import RandomForestRegressor\n",
    "from sklearn.metrics import mean_squared_error, r2_score\n",
    "\n",
    "from datetime import datetime, timedelta\n",
    "from os.path import join as join\n",
    "\n",
    "from ipyleaflet import Map, GeoData, LayersControl, basemaps\n",
    "import matplotlib.colors as mcolors\n",
    "import requests\n",
    "import io",
    "from ipywidgets import VBox"
   ]
  },
  {
   "cell_type": "code",
   "execution_count": 4,
   "id": "920f2143",
   "metadata": {},
   "outputs": [],
   "source": [
    "# Google Drive direct download URL\n",
    "route_url = \"https://drive.google.com/uc?export=download&id=1qpx8iktc2wfwCE_2sMv5ODaB3PV4z7HH\"\n",
    "\n",
    "# Fetch the file\n",
    "response = requests.get(route_url)\n",
    "response.raise_for_status()  # ensure we catch a failed download\n",
    "\n",
    "# Load into pandas from memory\n",
    "df_routes = gpd.read_parquet(io.BytesIO(response.content))"
   ]
  },
  {
   "cell_type": "code",
   "execution_count": 5,
   "id": "eb5f9001",
   "metadata": {},
   "outputs": [
    {
     "data": {
      "application/vnd.jupyter.widget-view+json": {
       "model_id": "9546c2029d6a4ed0889ed3ffd67d14df",
       "version_major": 2,
       "version_minor": 0
      },
      "text/plain": [
       "Map(center=[37.78, -122.42], controls=(ZoomControl(options=['position', 'zoom_in_text', 'zoom_in_title', 'zoom…"
      ]
     },
     "execution_count": 5,
     "metadata": {},
     "output_type": "execute_result"
    }
   ],
   "source": [
    "# Create map with a base map\n",
    "center = [37.78, -122.42]   #SFO\n",
    "m = Map(center=center, zoom=10, basemap=basemaps.CartoDB.DarkMatter, scroll_wheel_zoom=True, layout={'height': '600px'})\n",
    "\n",
    "# Get tableau color for routes\n",
    "path_names = df_routes['path_name'].unique()\n",
    "colors = list(mcolors.TABLEAU_COLORS.values())\n",
    "color_map = {}\n",
    "\n",
    "for i, pn in enumerate(path_names):\n",
    "    color_map[pn] = colors[i]\n",
    "    \n",
    "# Add each routes to map\n",
    "for pn in path_names:\n",
    "    geo_data = GeoData(\n",
    "        geo_dataframe=df_routes[df_routes['path_name'] == pn],\n",
    "        style = {'color': color_map[pn], 'weight': 5},\n",
    "        name = pn\n",
    "    )\n",
    "    m.add_layer(geo_data)\n",
    "\n",
    "m.add_control(LayersControl())\n",
    "\n",
    "# Display the map\n",
    "display(VBox([m]))"
   ]
  },
  {
   "cell_type": "code",
   "execution_count": null,
   "id": "7b42243e",
   "metadata": {},
   "outputs": [],
   "source": []
  }
 ],
 "metadata": {
  "kernelspec": {
   "display_name": "smaurora",
   "language": "python",
   "name": "python3"
  },
  "language_info": {
   "codemirror_mode": {
    "name": "ipython",
    "version": 3
   },
   "file_extension": ".py",
   "mimetype": "text/x-python",
   "name": "python",
   "nbconvert_exporter": "python",
   "pygments_lexer": "ipython3",
   "version": "3.10.18"
  }
 },
 "nbformat": 4,
 "nbformat_minor": 5
}
